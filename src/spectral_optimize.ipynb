{
 "cells": [
  {
   "cell_type": "code",
   "execution_count": 3,
   "metadata": {
    "collapsed": true
   },
   "outputs": [],
   "source": [
    "import pandas as pd\n",
    "import numpy as np\n",
    "import seaborn as sns\n",
    "import matplotlib.pyplot as plt\n",
    "\n",
    "from sklearn.manifold import TSNE\n",
    "from sklearn.cluster import SpectralClustering\n",
    "from sklearn.metrics import silhouette_score\n",
    "from sklearn.decomposition import PCA\n",
    "from sklearn.preprocessing import StandardScaler"
   ]
  },
  {
   "cell_type": "code",
   "execution_count": 4,
   "metadata": {
    "collapsed": true
   },
   "outputs": [],
   "source": [
    "# Constants - The master stat (feature) list, and the corresponding player data.\n",
    "stats_list = ['MP_x','FG','FGA','2P','2PA','3P','3PA','FT','FTA','ORB', 'DRB', 'TRB', 'AST', 'STL','BLK','TOV','PF','PTS','FG%','2P%','3P%', 'eFG%', 'FT%', 'TS%_x', 'PER', '3PAr','FTr', 'ORB%', 'DRB%', 'TRB%', 'AST%', 'STL%', 'BLK%', 'TOV%', 'USG%','ORtg', 'DRtg', 'OWS', 'DWS', 'WS', 'WS/48', 'OBPM', 'DBPM', 'BPM','VORP', 'dist', 'spd', 'tchs', 'pass', 'sast', 'ftast', 'dfgm','dfga']\n",
    "df = pd.read_csv('../data/final_stats.csv')\n",
    "df.set_index('player_year',inplace=True)\n",
    "df.fillna(value=0,inplace=True)\n",
    "\n",
    "scaler = StandardScaler()"
   ]
  },
  {
   "cell_type": "code",
   "execution_count": 5,
   "metadata": {
    "collapsed": true
   },
   "outputs": [],
   "source": [
    "feature_space = ['MP_x','tchs','2P','3P','3PA','FTr','TS%_x','ORB','TRB','AST%','STL%','BLK%','3PAr','DWS','DBPM','dist','dfga']"
   ]
  },
  {
   "cell_type": "code",
   "execution_count": null,
   "metadata": {},
   "outputs": [
    {
     "name": "stdout",
     "output_type": "stream",
     "text": [
      "clusters = 5\n"
     ]
    }
   ],
   "source": [
    "# Optimizing Spectral Clustering\n",
    "X = df[feature_space]\n",
    "# X = scaler.fit_transform(X)\n",
    "\n",
    "cluster_list = range(5,20)\n",
    "affinity_list = ['rbf', 'sigmoid', 'polynomial', 'poly', 'linear', 'cosine']\n",
    "comp_list = [2,3,4,5]\n",
    "\n",
    "max_score = [0,0,0]\n",
    "for k in cluster_list:\n",
    "    print ('clusters = {}'.format(k))\n",
    "    for a in affinity_list:\n",
    "        for c in comp_list:\n",
    "#             pca = PCA(n_components=c,whiten=True,svd_solver='full')\n",
    "#             reduced = pca.fit_transform(X)\n",
    "\n",
    "            spec = SpectralClustering(n_clusters=k,affinity=a)\n",
    "            spec.fit(X)\n",
    "            try:\n",
    "                score = silhouette_score(X,spec.labels_)\n",
    "            except:\n",
    "                continue\n",
    "            if score > max_score[0]:\n",
    "                max_score = [score,'affinity:{}'.format(a),'{} pca components'.format(c)]\n",
    "                print('new max score: {}'.format(max_score) + '{} clusters'.format(len(np.unique(spec.labels_))))"
   ]
  },
  {
   "cell_type": "code",
   "execution_count": 11,
   "metadata": {},
   "outputs": [
    {
     "data": {
      "text/plain": [
       "False"
      ]
     },
     "execution_count": 11,
     "metadata": {},
     "output_type": "execute_result"
    }
   ],
   "source": [
    "np.isnan(reduced).any()"
   ]
  },
  {
   "cell_type": "code",
   "execution_count": 12,
   "metadata": {},
   "outputs": [
    {
     "data": {
      "text/plain": [
       "False"
      ]
     },
     "execution_count": 12,
     "metadata": {},
     "output_type": "execute_result"
    }
   ],
   "source": [
    "np.isinf(reduced).any()"
   ]
  },
  {
   "cell_type": "code",
   "execution_count": null,
   "metadata": {
    "collapsed": true
   },
   "outputs": [],
   "source": []
  }
 ],
 "metadata": {
  "kernelspec": {
   "display_name": "Python [conda env:py3]",
   "language": "python",
   "name": "conda-env-py3-py"
  },
  "language_info": {
   "codemirror_mode": {
    "name": "ipython",
    "version": 3
   },
   "file_extension": ".py",
   "mimetype": "text/x-python",
   "name": "python",
   "nbconvert_exporter": "python",
   "pygments_lexer": "ipython3",
   "version": "3.6.1"
  }
 },
 "nbformat": 4,
 "nbformat_minor": 2
}
