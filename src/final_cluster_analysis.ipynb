{
 "cells": [
  {
   "cell_type": "code",
   "execution_count": 59,
   "metadata": {
    "collapsed": true
   },
   "outputs": [],
   "source": [
    "import pandas as pd\n",
    "import numpy as np\n",
    "from collections import OrderedDict\n",
    "import matplotlib.pyplot as plt\n",
    "from matplotlib.font_manager import FontProperties\n",
    "\n",
    "from sklearn.manifold import TSNE\n",
    "\n",
    "%matplotlib inline\n",
    "\n",
    "\n",
    "import random\n",
    "def random_hex():\n",
    "    return ''.join([random.choice('0123456789ABCDEF') for x in range(6)])"
   ]
  },
  {
   "cell_type": "code",
   "execution_count": 27,
   "metadata": {
    "collapsed": true
   },
   "outputs": [],
   "source": [
    "df = pd.read_csv('../data/gaussian_final.csv')\n",
    "df.set_index('player_year',inplace=True)\n",
    "df.fillna(value=0,inplace=True)"
   ]
  },
  {
   "cell_type": "code",
   "execution_count": 28,
   "metadata": {},
   "outputs": [
    {
     "data": {
      "text/html": [
       "<div>\n",
       "<table border=\"1\" class=\"dataframe\">\n",
       "  <thead>\n",
       "    <tr style=\"text-align: right;\">\n",
       "      <th></th>\n",
       "      <th>MP_x</th>\n",
       "      <th>2P</th>\n",
       "      <th>3P</th>\n",
       "      <th>3PA</th>\n",
       "      <th>FTr</th>\n",
       "      <th>TS%_x</th>\n",
       "      <th>ORB</th>\n",
       "      <th>TRB</th>\n",
       "      <th>AST%</th>\n",
       "      <th>STL%</th>\n",
       "      <th>BLK%</th>\n",
       "      <th>3PAr</th>\n",
       "      <th>DWS</th>\n",
       "      <th>DBPM</th>\n",
       "      <th>dist</th>\n",
       "      <th>dfga</th>\n",
       "      <th>label</th>\n",
       "    </tr>\n",
       "    <tr>\n",
       "      <th>player_year</th>\n",
       "      <th></th>\n",
       "      <th></th>\n",
       "      <th></th>\n",
       "      <th></th>\n",
       "      <th></th>\n",
       "      <th></th>\n",
       "      <th></th>\n",
       "      <th></th>\n",
       "      <th></th>\n",
       "      <th></th>\n",
       "      <th></th>\n",
       "      <th></th>\n",
       "      <th></th>\n",
       "      <th></th>\n",
       "      <th></th>\n",
       "      <th></th>\n",
       "      <th></th>\n",
       "    </tr>\n",
       "  </thead>\n",
       "  <tbody>\n",
       "    <tr>\n",
       "      <th>Nick Collison/2015-16</th>\n",
       "      <td>11.8</td>\n",
       "      <td>2.6</td>\n",
       "      <td>0.0</td>\n",
       "      <td>0.1</td>\n",
       "      <td>0.303</td>\n",
       "      <td>0.498</td>\n",
       "      <td>3.5</td>\n",
       "      <td>8.8</td>\n",
       "      <td>9.6</td>\n",
       "      <td>1.1</td>\n",
       "      <td>1.7</td>\n",
       "      <td>0.018</td>\n",
       "      <td>0.7</td>\n",
       "      <td>1.3</td>\n",
       "      <td>0.381348</td>\n",
       "      <td>0.985816</td>\n",
       "      <td>8</td>\n",
       "    </tr>\n",
       "    <tr>\n",
       "      <th>Jimmer Fredette/2014-15</th>\n",
       "      <td>10.2</td>\n",
       "      <td>3.8</td>\n",
       "      <td>0.6</td>\n",
       "      <td>3.4</td>\n",
       "      <td>0.271</td>\n",
       "      <td>0.479</td>\n",
       "      <td>0.6</td>\n",
       "      <td>2.8</td>\n",
       "      <td>17.2</td>\n",
       "      <td>1.5</td>\n",
       "      <td>0.3</td>\n",
       "      <td>0.289</td>\n",
       "      <td>0.2</td>\n",
       "      <td>-2.9</td>\n",
       "      <td>0.432442</td>\n",
       "      <td>0.279070</td>\n",
       "      <td>7</td>\n",
       "    </tr>\n",
       "    <tr>\n",
       "      <th>Brandon Bass/2016-17</th>\n",
       "      <td>11.1</td>\n",
       "      <td>6.6</td>\n",
       "      <td>0.1</td>\n",
       "      <td>0.2</td>\n",
       "      <td>0.473</td>\n",
       "      <td>0.650</td>\n",
       "      <td>2.7</td>\n",
       "      <td>8.0</td>\n",
       "      <td>5.7</td>\n",
       "      <td>1.2</td>\n",
       "      <td>1.6</td>\n",
       "      <td>0.016</td>\n",
       "      <td>0.6</td>\n",
       "      <td>-0.8</td>\n",
       "      <td>0.463523</td>\n",
       "      <td>0.852273</td>\n",
       "      <td>8</td>\n",
       "    </tr>\n",
       "    <tr>\n",
       "      <th>Tyler Zeller/2016-17</th>\n",
       "      <td>10.3</td>\n",
       "      <td>5.3</td>\n",
       "      <td>0.0</td>\n",
       "      <td>0.1</td>\n",
       "      <td>0.247</td>\n",
       "      <td>0.508</td>\n",
       "      <td>2.9</td>\n",
       "      <td>8.5</td>\n",
       "      <td>12.2</td>\n",
       "      <td>0.7</td>\n",
       "      <td>3.3</td>\n",
       "      <td>0.006</td>\n",
       "      <td>0.6</td>\n",
       "      <td>0.8</td>\n",
       "      <td>0.472500</td>\n",
       "      <td>1.477273</td>\n",
       "      <td>8</td>\n",
       "    </tr>\n",
       "    <tr>\n",
       "      <th>Justin Holiday/2014-15</th>\n",
       "      <td>11.1</td>\n",
       "      <td>3.1</td>\n",
       "      <td>1.9</td>\n",
       "      <td>6.0</td>\n",
       "      <td>0.191</td>\n",
       "      <td>0.498</td>\n",
       "      <td>0.7</td>\n",
       "      <td>4.0</td>\n",
       "      <td>10.1</td>\n",
       "      <td>3.0</td>\n",
       "      <td>1.4</td>\n",
       "      <td>0.464</td>\n",
       "      <td>1.0</td>\n",
       "      <td>0.5</td>\n",
       "      <td>0.483663</td>\n",
       "      <td>0.514851</td>\n",
       "      <td>12</td>\n",
       "    </tr>\n",
       "  </tbody>\n",
       "</table>\n",
       "</div>"
      ],
      "text/plain": [
       "                         MP_x   2P   3P  3PA    FTr  TS%_x  ORB  TRB  AST%  \\\n",
       "player_year                                                                  \n",
       "Nick Collison/2015-16    11.8  2.6  0.0  0.1  0.303  0.498  3.5  8.8   9.6   \n",
       "Jimmer Fredette/2014-15  10.2  3.8  0.6  3.4  0.271  0.479  0.6  2.8  17.2   \n",
       "Brandon Bass/2016-17     11.1  6.6  0.1  0.2  0.473  0.650  2.7  8.0   5.7   \n",
       "Tyler Zeller/2016-17     10.3  5.3  0.0  0.1  0.247  0.508  2.9  8.5  12.2   \n",
       "Justin Holiday/2014-15   11.1  3.1  1.9  6.0  0.191  0.498  0.7  4.0  10.1   \n",
       "\n",
       "                         STL%  BLK%   3PAr  DWS  DBPM      dist      dfga  \\\n",
       "player_year                                                                 \n",
       "Nick Collison/2015-16     1.1   1.7  0.018  0.7   1.3  0.381348  0.985816   \n",
       "Jimmer Fredette/2014-15   1.5   0.3  0.289  0.2  -2.9  0.432442  0.279070   \n",
       "Brandon Bass/2016-17      1.2   1.6  0.016  0.6  -0.8  0.463523  0.852273   \n",
       "Tyler Zeller/2016-17      0.7   3.3  0.006  0.6   0.8  0.472500  1.477273   \n",
       "Justin Holiday/2014-15    3.0   1.4  0.464  1.0   0.5  0.483663  0.514851   \n",
       "\n",
       "                         label  \n",
       "player_year                     \n",
       "Nick Collison/2015-16        8  \n",
       "Jimmer Fredette/2014-15      7  \n",
       "Brandon Bass/2016-17         8  \n",
       "Tyler Zeller/2016-17         8  \n",
       "Justin Holiday/2014-15      12  "
      ]
     },
     "execution_count": 28,
     "metadata": {},
     "output_type": "execute_result"
    }
   ],
   "source": [
    "df.head()"
   ]
  },
  {
   "cell_type": "code",
   "execution_count": 63,
   "metadata": {},
   "outputs": [
    {
     "data": {
      "text/plain": [
       "<matplotlib.legend.Legend at 0x11d455350>"
      ]
     },
     "execution_count": 63,
     "metadata": {},
     "output_type": "execute_result"
    },
    {
     "data": {
      "image/png": "[encoded data removed]",
      "text/plain": [
       "<matplotlib.figure.Figure at 0x11d70efd0>"
      ]
     },
     "metadata": {},
     "output_type": "display_data"
    }
   ],
   "source": [
    "labels = df['label'].values\n",
    "tsne = TSNE(n_components=2,init='pca',random_state=23).fit_transform(df)\n",
    "X = pd.DataFrame(tsne)\n",
    "X['label'] = labels\n",
    "\n",
    "fontP = FontProperties()\n",
    "fontP.set_size('small')\n",
    "\n",
    "\n",
    "fig = plt.figure()\n",
    "ax = fig.add_subplot(111)\n",
    "\n",
    "ax.scatter(X[0],X[1],cmap=plt.cm.Spectral)\n",
    "\n",
    "\n",
    "for label in np.unique(df['label']):\n",
    "    cluster_frame = X[X['label'] == label]\n",
    "    ax.scatter(cluster_frame[0],cluster_frame[1],c='#{}'.format(random_hex()),label=label)\n",
    "    \n",
    "\n",
    "handles, labels = plt.gca().get_legend_handles_labels()\n",
    "by_label = OrderedDict(zip(labels, handles))\n",
    "plt.legend(by_label.values(), by_label.keys())\n",
    "\n",
    "plt.axis('tight')\n",
    "plt.legend(by_label.values(),by_label.keys(),loc='bottom left',ncol=4,bbox_to_anchor=(0.5,1.05), shadow=True)"
   ]
  },
  {
   "cell_type": "code",
   "execution_count": 55,
   "metadata": {},
   "outputs": [
    {
     "data": {
      "text/plain": [
       "20"
      ]
     },
     "execution_count": 55,
     "metadata": {},
     "output_type": "execute_result"
    }
   ],
   "source": [
    "len(np.unique(df['label']))"
   ]
  },
  {
   "cell_type": "code",
   "execution_count": 36,
   "metadata": {},
   "outputs": [],
   "source": [
    "cluster_frame = df[df['label'] == 0]"
   ]
  },
  {
   "cell_type": "code",
   "execution_count": 64,
   "metadata": {},
   "outputs": [
    {
     "data": {
      "text/plain": [
       "8     87\n",
       "0     74\n",
       "6     69\n",
       "12    68\n",
       "5     68\n",
       "2     68\n",
       "3     66\n",
       "15    62\n",
       "7     53\n",
       "10    45\n",
       "17    39\n",
       "1     36\n",
       "18    32\n",
       "16    30\n",
       "14    29\n",
       "11    25\n",
       "13    19\n",
       "4     16\n",
       "19    13\n",
       "9     12\n",
       "Name: label, dtype: int64"
      ]
     },
     "execution_count": 64,
     "metadata": {},
     "output_type": "execute_result"
    }
   ],
   "source": [
    "df['label'].value_counts()"
   ]
  },
  {
   "cell_type": "code",
   "execution_count": 94,
   "metadata": {},
   "outputs": [
    {
     "data": {
      "text/plain": [
       "MP_x     27.700000\n",
       "2P        3.900000\n",
       "3P        0.000000\n",
       "3PA       0.000000\n",
       "FTr       0.576000\n",
       "TS%_x     0.611000\n",
       "ORB       4.300000\n",
       "TRB      11.700000\n",
       "AST%      4.000000\n",
       "STL%      0.900000\n",
       "BLK%      1.800000\n",
       "3PAr      0.000000\n",
       "DWS       3.100000\n",
       "DBPM      1.300000\n",
       "dist      1.958544\n",
       "dfga      5.990291\n",
       "label     2.000000\n",
       "Name: Tristan Thompson/2015-16, dtype: float64"
      ]
     },
     "execution_count": 94,
     "metadata": {},
     "output_type": "execute_result"
    }
   ],
   "source": [
    "df.loc['Tristan Thompson/2015-16']"
   ]
  },
  {
   "cell_type": "code",
   "execution_count": null,
   "metadata": {
    "collapsed": true
   },
   "outputs": [],
   "source": []
  }
 ],
 "metadata": {
  "anaconda-cloud": {},
  "kernelspec": {
   "display_name": "Python [default]",
   "language": "python",
   "name": "python2"
  },
  "language_info": {
   "codemirror_mode": {
    "name": "ipython",
    "version": 2
   },
   "file_extension": ".py",
   "mimetype": "text/x-python",
   "name": "python",
   "nbconvert_exporter": "python",
   "pygments_lexer": "ipython2",
   "version": "2.7.12"
  }
 },
 "nbformat": 4,
 "nbformat_minor": 2
}
