{
 "cells": [
  {
   "cell_type": "code",
   "execution_count": 10,
   "metadata": {
    "collapsed": true
   },
   "outputs": [],
   "source": [
    "import pandas as pd\n",
    "import numpy as np\n",
    "\n",
    "from sklearn.cluster import AffinityPropagation\n",
    "from sklearn.mixture import GaussianMixture\n",
    "from sklearn.metrics import silhouette_score, calinski_harabaz_score\n",
    "from sklearn.decomposition import PCA\n",
    "from sklearn.manifold import TSNE\n",
    "from sklearn.preprocessing import normalize\n",
    "\n",
    "from agglomerative import get_data\n",
    "from cluster_visual import plot_tsne_scatter\n",
    "\n",
    "import seaborn as sns\n",
    "import matplotlib.pyplot as plt\n",
    "\n",
    "%matplotlib inline"
   ]
  },
  {
   "cell_type": "code",
   "execution_count": 11,
   "metadata": {
    "collapsed": true
   },
   "outputs": [],
   "source": [
    "# Constants - The master stat (feature) list, and the corresponding player data.\n",
    "stats_list = ['MP_x','FG','FGA','2P','2PA','3P','3PA','FT','FTA','ORB', 'DRB', 'TRB', 'AST', 'STL','BLK','TOV','PF','PTS','FG%','2P%','3P%', 'eFG%', 'FT%', 'TS%_x', 'PER', '3PAr','FTr', 'ORB%', 'DRB%', 'TRB%', 'AST%', 'STL%', 'BLK%', 'TOV%', 'USG%','ORtg', 'DRtg', 'OWS', 'DWS', 'WS', 'WS/48', 'OBPM', 'DBPM', 'BPM','VORP', 'dist', 'spd', 'tchs', 'pass', 'sast', 'ftast', 'dfgm','dfga']\n",
    "df = pd.read_csv('../data/final_stats.csv')\n",
    "df.set_index('player_year',inplace=True)\n",
    "df.fillna(value=0,inplace=True)"
   ]
  },
  {
   "cell_type": "code",
   "execution_count": 12,
   "metadata": {
    "collapsed": true
   },
   "outputs": [],
   "source": [
    "# After lot's of feature space randomization and analysis, let's use what we've learned to craft a feature space\n",
    "# manually.  Here's our (tentative) new stats list:\n",
    "new_stats_list = ['MP_x','2PA','3PA','FTr','TS%_x','ORB','TRB','AST%','STL%','BLK%','3PAr','DWS','DBPM','dist','dfga']"
   ]
  },
  {
   "cell_type": "code",
   "execution_count": 14,
   "metadata": {},
   "outputs": [],
   "source": [
    "# Let's optimize a Gaussian Mixture model:\n",
    "X = df[new_stats_list]\n",
    "\n",
    "cluster_list = range(10,25)\n",
    "pca_components = [2,3,4,5]\n",
    "covar_list = ['full','diag','tied','spherical']\n",
    "\n",
    "for k in cluster_list:\n",
    "    print \"n clusters = {}\".format(k)\n",
    "    for com in pca_components:\n",
    "        for covar in covar_list:\n",
    "            gmm = GaussianMixture(n_components=c,covariance_type=covar)\n",
    "            pca = PCA(n_components=com,whiten=True,svd_solver='full')\n",
    "            reduced = pca.fit_transform(X)\n",
    "            gmm.fit(reduced)\n",
    "            \n",
    "            \n",
    "            try:\n",
    "                silhouette = silhouette_score(reduced,gmm.predict(X))\n",
    "                calinski = calinski_harabaz_score(reduced,gmm.predict(X))\n",
    "            except:\n",
    "                continue\n",
    "\n",
    "            X['label'] = gmm.predict(X)\n",
    "            if X.loc['Nikola Jokic/2016-17']['label'] == X.loc['Marc Gasol/2016-17']['label']:\n",
    "                print(\"{} components| covariance type: {} | silhouette: {} | calinski: {}\".format(com,covar,silhouette,calinski))"
   ]
  },
  {
   "cell_type": "code",
   "execution_count": null,
   "metadata": {
    "collapsed": true
   },
   "outputs": [],
   "source": []
  }
 ],
 "metadata": {
  "kernelspec": {
   "display_name": "Python [conda root]",
   "language": "python",
   "name": "conda-root-py"
  },
  "language_info": {
   "codemirror_mode": {
    "name": "ipython",
    "version": 2
   },
   "file_extension": ".py",
   "mimetype": "text/x-python",
   "name": "python",
   "nbconvert_exporter": "python",
   "pygments_lexer": "ipython2",
   "version": "2.7.12"
  }
 },
 "nbformat": 4,
 "nbformat_minor": 2
}
