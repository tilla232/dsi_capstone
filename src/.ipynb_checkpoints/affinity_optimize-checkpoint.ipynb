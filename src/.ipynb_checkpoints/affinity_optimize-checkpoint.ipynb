{
 "cells": [
  {
   "cell_type": "code",
   "execution_count": 7,
   "metadata": {
    "collapsed": true
   },
   "outputs": [],
   "source": [
    "import pandas as pd\n",
    "import numpy as np\n",
    "import seaborn as sns\n",
    "import matplotlib.pyplot as plt\n",
    "\n",
    "from sklearn.manifold import TSNE\n",
    "from sklearn.cluster import AffinityPropagation\n",
    "from sklearn.metrics import silhouette_score\n",
    "from sklearn.decomposition import PCA"
   ]
  },
  {
   "cell_type": "code",
   "execution_count": 2,
   "metadata": {
    "collapsed": true
   },
   "outputs": [],
   "source": [
    "# Constants - The master stat (feature) list, and the corresponding player data.\n",
    "stats_list = ['MP_x','FG','FGA','2P','2PA','3P','3PA','FT','FTA','ORB', 'DRB', 'TRB', 'AST', 'STL','BLK','TOV','PF','PTS','FG%','2P%','3P%', 'eFG%', 'FT%', 'TS%_x', 'PER', '3PAr','FTr', 'ORB%', 'DRB%', 'TRB%', 'AST%', 'STL%', 'BLK%', 'TOV%', 'USG%','ORtg', 'DRtg', 'OWS', 'DWS', 'WS', 'WS/48', 'OBPM', 'DBPM', 'BPM','VORP', 'dist', 'spd', 'tchs', 'pass', 'sast', 'ftast', 'dfgm','dfga']\n",
    "df = pd.read_csv('../data/final_stats.csv')\n",
    "df.set_index('player_year',inplace=True)\n",
    "df.fillna(value=0,inplace=True)"
   ]
  },
  {
   "cell_type": "code",
   "execution_count": 3,
   "metadata": {
    "collapsed": true
   },
   "outputs": [],
   "source": [
    "feature_space = ['MP_x','tchs','2P','3P','3PA','FTr','TS%_x','ORB','TRB','AST%','STL%','BLK%','3PAr','DWS','DBPM','dist','dfga']"
   ]
  },
  {
   "cell_type": "code",
   "execution_count": null,
   "metadata": {},
   "outputs": [
    {
     "name": "stdout",
     "output_type": "stream",
     "text": [
      "damping = 0.5\n",
      "new max score: [0.2499972563554507, 'damping:0.5', 'preference:-300', '4 pca components']4 clusters\n",
      "new max score: [0.27566727188998397, 'damping:0.5', 'preference:-250', '3 pca components']3 clusters\n",
      "new max score: [0.32241839889461948, 'damping:0.5', 'preference:-200', '3 pca components']5 clusters\n",
      "damping = 0.525263157895\n",
      "damping = 0.550526315789\n",
      "new max score: [0.32414811982762698, 'damping:0.550526315789', 'preference:-300', '3 pca components']3 clusters\n",
      "new max score: [0.32554174652228945, 'damping:0.550526315789', 'preference:-250', '3 pca components']3 clusters\n",
      "new max score: [0.43068406494079003, 'damping:0.550526315789', 'preference:-225', '2 pca components']2 clusters\n",
      "damping = 0.575789473684\n"
     ]
    }
   ],
   "source": [
    "# Optimizing Affinity Propagation\n",
    "X = df[feature_space]\n",
    "\n",
    "damping_list = np.linspace(0.5,0.98,20)\n",
    "preference_list = np.arange(-300,-100,25)\n",
    "comp_list = [2,3,4,5]\n",
    "max_score = [0,0,0,0]\n",
    "\n",
    "for d in damping_list:\n",
    "    print 'damping = {}'.format(d)\n",
    "    for p in preference_list:\n",
    "        for c in comp_list:\n",
    "            pca = PCA(n_components=c,whiten=True,svd_solver='full')\n",
    "            reduced = pca.fit_transform(X)\n",
    "            \n",
    "            aff = AffinityPropagation(damping=d,preference=p)\n",
    "            aff.fit(reduced)\n",
    "            try:\n",
    "                score = silhouette_score(reduced,aff.labels_)\n",
    "            except:\n",
    "                continue\n",
    "            if score > max_score[0]:\n",
    "                max_score = [score,'damping:{}'.format(d),'preference:{}'.format(p),'{} pca components'.format(c)]\n",
    "                print 'new max score: {}'.format(max_score) + '{} clusters'.format(len(np.unique(aff.labels_)))"
   ]
  },
  {
   "cell_type": "code",
   "execution_count": null,
   "metadata": {
    "collapsed": true
   },
   "outputs": [],
   "source": []
  }
 ],
 "metadata": {
  "anaconda-cloud": {},
  "kernelspec": {
   "display_name": "Python [conda root]",
   "language": "python",
   "name": "conda-root-py"
  },
  "language_info": {
   "codemirror_mode": {
    "name": "ipython",
    "version": 2
   },
   "file_extension": ".py",
   "mimetype": "text/x-python",
   "name": "python",
   "nbconvert_exporter": "python",
   "pygments_lexer": "ipython2",
   "version": "2.7.12"
  }
 },
 "nbformat": 4,
 "nbformat_minor": 2
}
